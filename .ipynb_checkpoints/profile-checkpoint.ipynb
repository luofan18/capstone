{
 "cells": [
  {
   "cell_type": "code",
   "execution_count": 1,
   "metadata": {
    "collapsed": true
   },
   "outputs": [],
   "source": [
    "import profile\n",
    "\n",
    "def fib(n):\n",
    "    # from http://en.literateprograms.org/Fibonacci_numbers_(Python)\n",
    "    if n == 0:\n",
    "        return 0\n",
    "    elif n == 1:\n",
    "        return 1\n",
    "    else:\n",
    "        return fib(n-1) + fib(n-2)\n",
    "\n",
    "def fib_seq(n):\n",
    "    seq = [ ]\n",
    "    if n > 0:\n",
    "        seq.extend(fib_seq(n-1))\n",
    "    seq.append(fib(n))\n",
    "    return seq"
   ]
  },
  {
   "cell_type": "code",
   "execution_count": 2,
   "metadata": {
    "collapsed": false
   },
   "outputs": [
    {
     "name": "stdout",
     "output_type": "stream",
     "text": [
      "RAW\n",
      "================================================================================\n",
      "[0, 1, 1, 2, 3, 5, 8, 13, 21, 34, 55, 89, 144, 233, 377, 610, 987, 1597, 2584, 4181, 6765]\n",
      "\n",
      "         57400 function calls (110 primitive calls) in 0.247 seconds\n",
      "\n",
      "   Ordered by: standard name\n",
      "\n",
      "   ncalls  tottime  percall  cumtime  percall filename:lineno(function)\n",
      "       21    0.000    0.000    0.000    0.000 :0(append)\n",
      "        3    0.000    0.000    0.000    0.000 :0(decode)\n",
      "       20    0.000    0.000    0.000    0.000 :0(extend)\n",
      "        3    0.000    0.000    0.000    0.000 :0(getpid)\n",
      "        3    0.000    0.000    0.000    0.000 :0(isinstance)\n",
      "        1    0.000    0.000    0.000    0.000 :0(setprofile)\n",
      "        4    0.001    0.000    0.001    0.000 :0(urandom)\n",
      "        3    0.000    0.000    0.000    0.000 :0(utf_8_decode)\n",
      "     21/1    0.000    0.000    0.246    0.246 <ipython-input-1-7f234555f0b6>:12(fib_seq)\n",
      " 57291/21    0.245    0.000    0.245    0.012 <ipython-input-1-7f234555f0b6>:3(fib)\n",
      "        1    0.000    0.000    0.247    0.247 <string>:1(<module>)\n",
      "        4    0.000    0.000    0.001    0.000 iostream.py:180(schedule)\n",
      "        3    0.000    0.000    0.000    0.000 iostream.py:285(_is_master_process)\n",
      "        3    0.000    0.000    0.000    0.000 iostream.py:298(_schedule_flush)\n",
      "        3    0.000    0.000    0.001    0.000 iostream.py:361(write)\n",
      "        4    0.000    0.000    0.000    0.000 iostream.py:89(_event_pipe)\n",
      "        1    0.000    0.000    0.247    0.247 profile:0(print fib_seq(20); print)\n",
      "        0    0.000             0.000          profile:0(profiler)\n",
      "        4    0.000    0.000    0.000    0.000 threading.py:569(isSet)\n",
      "        4    0.000    0.000    0.000    0.000 threading.py:995(isAlive)\n",
      "        3    0.000    0.000    0.000    0.000 utf_8.py:15(decode)\n",
      "\n",
      "\n"
     ]
    }
   ],
   "source": [
    "print 'RAW'\n",
    "print '=' * 80\n",
    "profile.run('print fib_seq(20); print')"
   ]
  },
  {
   "cell_type": "code",
   "execution_count": 7,
   "metadata": {
    "collapsed": false
   },
   "outputs": [
    {
     "name": "stdout",
     "output_type": "stream",
     "text": [
      "[0, 1, 1, 2, 3, 5, 8, 13, 21, 34, 55, 89, 144, 233, 377, 610, 987, 1597, 2584, 4181, 6765]\n",
      "10\n",
      "         57413 function calls (123 primitive calls) in 0.171 seconds\n",
      "\n",
      "   Ordered by: standard name\n",
      "\n",
      "   ncalls  tottime  percall  cumtime  percall filename:lineno(function)\n",
      "       21    0.000    0.000    0.000    0.000 :0(append)\n",
      "        4    0.000    0.000    0.000    0.000 :0(decode)\n",
      "       20    0.000    0.000    0.000    0.000 :0(extend)\n",
      "        4    0.000    0.000    0.000    0.000 :0(getpid)\n",
      "        4    0.000    0.000    0.000    0.000 :0(isinstance)\n",
      "        1    0.000    0.000    0.000    0.000 :0(setprofile)\n",
      "        5    0.000    0.000    0.000    0.000 :0(urandom)\n",
      "        4    0.000    0.000    0.000    0.000 :0(utf_8_decode)\n",
      "     21/1    0.000    0.000    0.168    0.168 <ipython-input-1-7f234555f0b6>:12(fib_seq)\n",
      " 57291/21    0.168    0.000    0.168    0.008 <ipython-input-1-7f234555f0b6>:3(fib)\n",
      "        1    0.000    0.000    0.171    0.171 <string>:1(<module>)\n",
      "        5    0.000    0.000    0.000    0.000 iostream.py:180(schedule)\n",
      "        4    0.000    0.000    0.000    0.000 iostream.py:285(_is_master_process)\n",
      "        4    0.000    0.000    0.000    0.000 iostream.py:298(_schedule_flush)\n",
      "        4    0.003    0.001    0.003    0.001 iostream.py:361(write)\n",
      "        5    0.000    0.000    0.000    0.000 iostream.py:89(_event_pipe)\n",
      "        1    0.000    0.000    0.171    0.171 profile:0(print fib_seq(n); print '10' )\n",
      "        0    0.000             0.000          profile:0(profiler)\n",
      "        5    0.000    0.000    0.000    0.000 threading.py:569(isSet)\n",
      "        5    0.000    0.000    0.000    0.000 threading.py:995(isAlive)\n",
      "        4    0.000    0.000    0.000    0.000 utf_8.py:15(decode)\n",
      "\n",
      "\n"
     ]
    }
   ],
   "source": [
    "profile.runctx('print fib_seq(n); print \\'10\\' ', globals(), {'n':20})"
   ]
  },
  {
   "cell_type": "code",
   "execution_count": 10,
   "metadata": {
    "collapsed": false
   },
   "outputs": [
    {
     "name": "stdout",
     "output_type": "stream",
     "text": [
      " "
     ]
    }
   ],
   "source": [
    "%%prun\n",
    "fib_seq(20)"
   ]
  }
 ],
 "metadata": {
  "kernelspec": {
   "display_name": "Python 2",
   "language": "python",
   "name": "python2"
  },
  "language_info": {
   "codemirror_mode": {
    "name": "ipython",
    "version": 2
   },
   "file_extension": ".py",
   "mimetype": "text/x-python",
   "name": "python",
   "nbconvert_exporter": "python",
   "pygments_lexer": "ipython2",
   "version": "2.7.6"
  }
 },
 "nbformat": 4,
 "nbformat_minor": 2
}
