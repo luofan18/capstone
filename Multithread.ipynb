{
 "cells": [
  {
   "cell_type": "markdown",
   "metadata": {},
   "source": [
    "# May need multithread to download pictrue and train"
   ]
  },
  {
   "cell_type": "markdown",
   "metadata": {},
   "source": [
    "## Multithread using `thread.start_new_thread(...)`"
   ]
  },
  {
   "cell_type": "code",
   "execution_count": 1,
   "metadata": {
    "collapsed": false
   },
   "outputs": [
    {
     "name": "stdout",
     "output_type": "stream",
     "text": [
      "Thread_1: Mon Feb  6 04:06:24 2017\n",
      "Thread_1: Mon Feb  6 04:06:26 2017Thread_2: Mon Feb  6 04:06:26 2017\n",
      "\n",
      "Thread_1: Mon Feb  6 04:06:28 2017\n",
      "Thread_2: Mon Feb  6 04:06:30 2017\n",
      "Thread_1: Mon Feb  6 04:06:30 2017\n",
      "Thread_1: Mon Feb  6 04:06:32 2017\n",
      "Thread_2: Mon Feb  6 04:06:34 2017\n"
     ]
    },
    {
     "ename": "KeyboardInterrupt",
     "evalue": "",
     "output_type": "error",
     "traceback": [
      "\u001b[0;31m---------------------------------------------------------------------------\u001b[0m",
      "\u001b[0;31mKeyboardInterrupt\u001b[0m                         Traceback (most recent call last)",
      "\u001b[0;32m<ipython-input-1-9f0109273b19>\u001b[0m in \u001b[0;36m<module>\u001b[0;34m()\u001b[0m\n\u001b[1;32m     16\u001b[0m \u001b[0;34m\u001b[0m\u001b[0m\n\u001b[1;32m     17\u001b[0m \u001b[0;32mwhile\u001b[0m \u001b[0;36m1\u001b[0m\u001b[0;34m:\u001b[0m\u001b[0;34m\u001b[0m\u001b[0m\n\u001b[0;32m---> 18\u001b[0;31m     \u001b[0;32mpass\u001b[0m\u001b[0;34m\u001b[0m\u001b[0m\n\u001b[0m",
      "\u001b[0;31mKeyboardInterrupt\u001b[0m: "
     ]
    }
   ],
   "source": [
    "import thread\n",
    "import time\n",
    "\n",
    "def print_time(threadName, delay):\n",
    "    count = 0\n",
    "    while count < 5:\n",
    "        time.sleep(delay)\n",
    "        count += 1\n",
    "        print '{}: {}'.format(threadName, time.ctime(time.time()))\n",
    "        \n",
    "try:\n",
    "    thread.start_new_thread(print_time, ('Thread_1', 2, ))\n",
    "    thread.start_new_thread(print_time, ('Thread_2', 4, ))\n",
    "except:\n",
    "    print 'Error: unable to start thread'\n",
    "    \n",
    "while 1:\n",
    "    pass"
   ]
  },
  {
   "cell_type": "markdown",
   "metadata": {},
   "source": [
    "## Multithread by creating subclass of `threading.Thread`"
   ]
  },
  {
   "cell_type": "code",
   "execution_count": 4,
   "metadata": {
    "collapsed": false
   },
   "outputs": [
    {
     "name": "stdout",
     "output_type": "stream",
     "text": [
      "starting Thread-1\n",
      "Exiting Main Threadstarting Thread-2\n",
      "\n",
      "Thread-1: Mon Feb  6 04:23:27 2017\n",
      "Thread-2: Mon Feb  6 04:23:28 2017Thread-1: Mon Feb  6 04:23:28 2017\n",
      "\n",
      "Thread-1: Mon Feb  6 04:23:29 2017\n",
      "Thread-2: Mon Feb  6 04:23:30 2017\n",
      "Thread-1: Mon Feb  6 04:23:30 2017\n",
      "Thread-1: Mon Feb  6 04:23:31 2017\n",
      "existing Thread-1\n",
      "Thread-2: Mon Feb  6 04:23:32 2017\n",
      "Thread-2: Mon Feb  6 04:23:34 2017\n",
      "Thread-2: Mon Feb  6 04:23:36 2017\n",
      "existing Thread-2\n"
     ]
    }
   ],
   "source": [
    "import threading\n",
    "import time\n",
    "\n",
    "exitFlag = 0\n",
    "\n",
    "class myThread(threading.Thread):\n",
    "    def __init__(self, threadID, name, counter):\n",
    "        threading.Thread.__init__(self)\n",
    "        self.name = name\n",
    "        self.counter = counter\n",
    "    def run(self):\n",
    "        print 'starting ' + self.name\n",
    "        print_time(self.name, self.counter, 5)\n",
    "        print 'existing ' + self.name\n",
    "        \n",
    "def print_time(threadName, delay, counter):\n",
    "    while counter:\n",
    "        if exitFlag:\n",
    "            threadName.exit()\n",
    "        time.sleep(delay)\n",
    "        print '{}: {}'.format(threadName, time.ctime(time.time()))\n",
    "        counter -= 1\n",
    "            \n",
    "# Creat new threads\n",
    "thread1 = myThread(1, 'Thread-1', 1)\n",
    "thread2 = myThread(2, 'Thread-2', 2)\n",
    "\n",
    "# Start new threads\n",
    "thread1.start()\n",
    "thread2.start()\n",
    "\n",
    "print 'Exiting Main Thread'"
   ]
  },
  {
   "cell_type": "markdown",
   "metadata": {},
   "source": [
    "## Synchronizing"
   ]
  },
  {
   "cell_type": "code",
   "execution_count": 16,
   "metadata": {
    "collapsed": false
   },
   "outputs": [
    {
     "name": "stdout",
     "output_type": "stream",
     "text": [
      "starting Thread-1\n",
      "starting Thread-2\n",
      "Thread-1: Mon Feb  6 04:57:22 2017\n",
      "Thread-1: Mon Feb  6 04:57:23 2017\n",
      "Thread-1: Mon Feb  6 04:57:24 2017\n",
      "Thread-2: Mon Feb  6 04:57:26 2017\n",
      "Thread-2: Mon Feb  6 04:57:28 2017\n",
      "Thread-2: Mon Feb  6 04:57:30 2017\n",
      "Exiting Main Thread\n"
     ]
    }
   ],
   "source": [
    "import threading\n",
    "import time\n",
    "\n",
    "class myThread(threading.Thread):\n",
    "    def __init__(self, threadID, name, counter):\n",
    "        threading.Thread.__init__(self)\n",
    "        self.threadID = threadID\n",
    "        self.name = name\n",
    "        self.counter = counter\n",
    "    def run(self):\n",
    "        print 'starting '+ self.name\n",
    "        # get the lock to synchronize threads\n",
    "        threadLock.acquire()\n",
    "        print_time(self.name, self.counter, 3)\n",
    "        # free lock to release next thread\n",
    "        threadLock.release()\n",
    "        \n",
    "def print_time(threadName, delay, counter):\n",
    "    while counter:\n",
    "        time.sleep(delay)\n",
    "        print '{}: {}'.format(threadName, time.ctime(time.time()))\n",
    "        counter -= 1\n",
    "        \n",
    "threadLock = threading.Lock()\n",
    "threads = []\n",
    "\n",
    "# creating new threads\n",
    "thread1 = myThread(1, \"Thread-1\", 1)\n",
    "thread2 = myThread(2, 'Thread-2', 2)\n",
    "\n",
    "# start new threads\n",
    "thread1.start()\n",
    "thread2.start()\n",
    "\n",
    "# add threads to threads list\n",
    "threads.append(thread1)\n",
    "threads.append(thread2)\n",
    "\n",
    "# wait for all threads to complete\n",
    "for t in threads:\n",
    "    t.join()\n",
    "print 'Exiting Main Thread'"
   ]
  },
  {
   "cell_type": "code",
   "execution_count": 22,
   "metadata": {
    "collapsed": false,
    "scrolled": true
   },
   "outputs": [
    {
     "name": "stdout",
     "output_type": "stream",
     "text": [
      "starting Thread-2starting Thread-1 starting Thread-3\n",
      "\n",
      "\n",
      "Thread-1 processing One\n",
      " Thread-3 processing Two\n",
      "Thread-3 processing Three\n",
      "Thread-2 processing Four\n",
      "Thread-1 processing Five\n",
      "exiting Thread-1exiting Thread-3\n",
      "exiting Thread-2\n",
      "\n",
      "Exiting Main Thread\n"
     ]
    }
   ],
   "source": [
    "import Queue\n",
    "import threading\n",
    "import time\n",
    "\n",
    "exitFlag = 0\n",
    "\n",
    "class myThread(threading.Thread):\n",
    "    def __init__(self, threadID, name, q):\n",
    "        threading.Thread.__init__(self)\n",
    "        self.threadID = threadID\n",
    "        self.name = name\n",
    "        self.q = q\n",
    "    def run(self):\n",
    "        print 'starting ' + self.name\n",
    "        processing_data(self.name, self.q)\n",
    "        print 'exiting ' + self.name\n",
    "\n",
    "def processing_data(threadName, q):\n",
    "    while not exitFlag:\n",
    "        queueLock.acquire()\n",
    "        if not workQueue.empty():\n",
    "            data = q.get()\n",
    "            queueLock.release()\n",
    "            print '{} processing {}'.format(threadName, data)\n",
    "        else:\n",
    "            queueLock.release()\n",
    "        time.sleep(1)\n",
    "\n",
    "threadList = ['Thread-1', 'Thread-2', 'Thread-3']\n",
    "nameList = ['One', 'Two', 'Three', 'Four', 'Five']\n",
    "queueLock = threading.Lock()\n",
    "workQueue = Queue.Queue(10)\n",
    "threads = []\n",
    "threadID = 1\n",
    "\n",
    "# create new threads\n",
    "for tName in threadList:\n",
    "    thread = myThread(threadID, tName, workQueue)\n",
    "    thread.start()\n",
    "    threads.append(thread)\n",
    "    threadID += 1\n",
    "    \n",
    "# fill the queue\n",
    "queueLock.acquire()\n",
    "for word in nameList:\n",
    "    workQueue.put(word)\n",
    "queueLock.release()\n",
    "\n",
    "# wait for the queue to empty\n",
    "while not workQueue.empty():\n",
    "    pass\n",
    "\n",
    "# notify threads it is time to exit\n",
    "exitFlag = 1\n",
    "\n",
    "# wait for all threads to complete\n",
    "for t in threads:\n",
    "    t.join()\n",
    "print 'Exiting Main Thread'"
   ]
  }
 ],
 "metadata": {
  "kernelspec": {
   "display_name": "Python 2",
   "language": "python",
   "name": "python2"
  },
  "language_info": {
   "codemirror_mode": {
    "name": "ipython",
    "version": 2
   },
   "file_extension": ".py",
   "mimetype": "text/x-python",
   "name": "python",
   "nbconvert_exporter": "python",
   "pygments_lexer": "ipython2",
   "version": "2.7.6"
  }
 },
 "nbformat": 4,
 "nbformat_minor": 2
}
