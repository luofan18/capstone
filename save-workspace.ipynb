{
 "cells": [
  {
   "cell_type": "code",
   "execution_count": 1,
   "metadata": {
    "collapsed": true
   },
   "outputs": [],
   "source": [
    "def func():\n",
    "    print '1'"
   ]
  },
  {
   "cell_type": "code",
   "execution_count": 2,
   "metadata": {
    "collapsed": false,
    "deletable": true,
    "editable": true
   },
   "outputs": [
    {
     "name": "stdout",
     "output_type": "stream",
     "text": [
      "ERROR shelving: __builtin__\n",
      "ERROR shelving: __builtins__\n",
      "ERROR shelving: _sh\n",
      "ERROR shelving: exit\n",
      "ERROR shelving: get_ipython\n",
      "ERROR shelving: my_shelf\n",
      "ERROR shelving: quit\n",
      "ERROR shelving: shelve\n"
     ]
    }
   ],
   "source": [
    "a = 100\n",
    "b = 10\n",
    "\n",
    "import shelve\n",
    "\n",
    "filename = 'tmp/shelve.out'\n",
    "my_shelf = shelve.open(filename,'n')\n",
    "\n",
    "for key in dir():\n",
    "    try:\n",
    "        my_shelf[key] = globals()[key]\n",
    "    except :\n",
    "        print 'ERROR shelving: {}'.format(key)\n",
    "my_shelf.close()"
   ]
  },
  {
   "cell_type": "code",
   "execution_count": 3,
   "metadata": {
    "collapsed": false
   },
   "outputs": [
    {
     "name": "stdout",
     "output_type": "stream",
     "text": [
      "ERROR unshelving: func\n",
      "100\n",
      "10\n"
     ]
    }
   ],
   "source": [
    "import shelve\n",
    "\n",
    "filename = 'tmp/shelve.out'\n",
    "my_shelf = shelve.open(filename)\n",
    "for key in my_shelf:\n",
    "    try:\n",
    "        globals()[key] = my_shelf[key]\n",
    "    except:\n",
    "        print 'ERROR unshelving: {}'.format(key)\n",
    "my_shelf.close()\n",
    "\n",
    "print a\n",
    "print b"
   ]
  }
 ],
 "metadata": {
  "kernelspec": {
   "display_name": "Python 2",
   "language": "python",
   "name": "python2"
  }
 },
 "nbformat": 4,
 "nbformat_minor": 2
}
